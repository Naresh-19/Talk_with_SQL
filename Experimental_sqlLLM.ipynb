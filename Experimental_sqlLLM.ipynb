{
 "cells": [
  {
   "cell_type": "code",
   "execution_count": 63,
   "metadata": {},
   "outputs": [
    {
     "name": "stdout",
     "output_type": "stream",
     "text": [
      "Aromatic scents that fill the air,\n",
      "A dish so fine, beyond compare,\n",
      "Briyani, oh how you delight,\n",
      "A flavorful treat, both day and night.\n",
      "\n",
      "Your basmati rice, a treasure rare,\n",
      "Mixed with spices, a love to share,\n",
      "The tender meat, or veggies so fine,\n",
      "A symphony of taste, all divine.\n",
      "\n",
      "The onions, ginger, and garlic too,\n",
      "Dance on the tongue, a flavorful brew,\n",
      "The cardamom, cinnamon, and cloves so sweet,\n",
      "A love letter to the senses, can't be beat.\n",
      "\n",
      "In every bite, a story's told,\n",
      "Of love and care, of traditions old,\n",
      "A dish that brings, people near,\n",
      "A symbol of love, that casts out fear.\n",
      "\n",
      "Oh, Briyani, how you bring us cheer,\n",
      "A comfort food, that banishes all fear,\n",
      "You're more than just, a meal to eat,\n",
      "A love that's shared, a bond to greet.\n",
      "\n",
      "So here's to you, dear Briyani mine,\n",
      "A love that's pure, a taste divine,\n",
      "May your flavors, forever reign,\n",
      "And in our hearts, your love remain.\n"
     ]
    }
   ],
   "source": [
    "# from langchain.llms import google_palm\\\n",
    "  \n",
    "from dotenv import load_dotenv\n",
    "from langchain_groq import ChatGroq\n",
    "import os\n",
    "\n",
    "load_dotenv()\n",
    "\n",
    "llm = ChatGroq(\n",
    "  model = \"llama-3.1-70b-versatile\",\n",
    "  temperature = 0,\n",
    "  groq_api_key = os.getenv(\"GROQ_API_KEY\"),\n",
    ")\n",
    "\n",
    "# from langchain_openai import ChatOpenAI\n",
    "\n",
    "# llm = ChatOpenAI(model=\"gpt-3.5-turbo\",temperature=0)\n",
    "\n",
    "print(llm.invoke(\"Write a poem on Love of Briyani \").content)\n",
    "\n"
   ]
  },
  {
   "cell_type": "code",
   "execution_count": 64,
   "metadata": {},
   "outputs": [
    {
     "name": "stdout",
     "output_type": "stream",
     "text": [
      "\n",
      "CREATE TABLE discounts (\n",
      "\tdiscount_id INTEGER NOT NULL AUTO_INCREMENT, \n",
      "\tt_shirt_id INTEGER NOT NULL, \n",
      "\tpct_discount DECIMAL(5, 2), \n",
      "\tPRIMARY KEY (discount_id), \n",
      "\tCONSTRAINT discounts_ibfk_1 FOREIGN KEY(t_shirt_id) REFERENCES t_shirts (t_shirt_id), \n",
      "\tCONSTRAINT discounts_chk_1 CHECK ((`pct_discount` between 0 and 100))\n",
      ")ENGINE=InnoDB DEFAULT CHARSET=utf8mb4 COLLATE utf8mb4_0900_ai_ci\n",
      "\n",
      "/*\n",
      "3 rows from discounts table:\n",
      "discount_id\tt_shirt_id\tpct_discount\n",
      "1\t1\t10.00\n",
      "2\t2\t15.00\n",
      "3\t3\t20.00\n",
      "*/\n",
      "\n",
      "\n",
      "CREATE TABLE t_shirts (\n",
      "\tt_shirt_id INTEGER NOT NULL AUTO_INCREMENT, \n",
      "\tbrand ENUM('Van Huesen','Levi','Nike','Adidas') NOT NULL, \n",
      "\tcolor ENUM('Red','Blue','Black','White') NOT NULL, \n",
      "\tsize ENUM('XS','S','M','L','XL') NOT NULL, \n",
      "\tprice INTEGER, \n",
      "\tstock_quantity INTEGER NOT NULL, \n",
      "\tPRIMARY KEY (t_shirt_id), \n",
      "\tCONSTRAINT t_shirts_chk_1 CHECK ((`price` between 10 and 50))\n",
      ")ENGINE=InnoDB DEFAULT CHARSET=utf8mb4 COLLATE utf8mb4_0900_ai_ci\n",
      "\n",
      "/*\n",
      "3 rows from t_shirts table:\n",
      "t_shirt_id\tbrand\tcolor\tsize\tprice\tstock_quantity\n",
      "1\tVan Huesen\tRed\tL\t48\t87\n",
      "2\tLevi\tWhite\tM\t21\t86\n",
      "3\tLevi\tRed\tL\t30\t20\n",
      "*/\n"
     ]
    }
   ],
   "source": [
    "from langchain.utilities import SQLDatabase\n",
    "\n",
    "db_user = \"root\"\n",
    "db_password = \"2004\"\n",
    "db_host = \"localhost\"\n",
    "db_name = \"martians_tshirt\"\n",
    "\n",
    "db = SQLDatabase.from_uri(f\"mysql+pymysql://{db_user}:{db_password}@{db_host}/{db_name}\",sample_rows_in_table_info=3)\n",
    "\n",
    "print(db.table_info)\n"
   ]
  },
  {
   "cell_type": "code",
   "execution_count": 65,
   "metadata": {},
   "outputs": [],
   "source": [
    "# from langchain_experimental.sql import SQLDatabaseChain\n",
    "# from decimal import Decimal\n",
    "\n",
    "# db_chain = SQLDatabaseChain.from_llm(llm, db, verbose=True,return_direct = True)\n",
    "\n",
    "# response = db_chain.invoke(\"What is the total revenue from Small sized t-shirts?\")\n",
    "\n",
    "# sql_result = response['result']\n",
    "\n"
   ]
  },
  {
   "cell_type": "markdown",
   "metadata": {},
   "source": [
    "## CUSTOM SQL DB CHAIN"
   ]
  },
  {
   "cell_type": "code",
   "execution_count": 66,
   "metadata": {},
   "outputs": [],
   "source": [
    "from langchain_experimental.sql import SQLDatabaseChain\n",
    "import re\n",
    "from decimal import Decimal\n",
    "\n",
    "class CustomSQLDatabaseChain(SQLDatabaseChain):\n",
    "    def invoke(self, query: str, return_only_outputs: bool = True):\n",
    "        # Run the original chain to get the SQL query result\n",
    "        response = super().invoke(query)\n",
    "        print(response)\n",
    "        # Extract and process the result\n",
    "        sql_result = response['result']\n",
    "        \n",
    "        # Apply regex to extract the Decimal value and convert it to float\n",
    "        match = re.search(r\"Decimal\\('([\\d\\.]+)'\\)\", sql_result)\n",
    "        if match:\n",
    "            result = float(Decimal(match.group(1)))\n",
    "            response['result'] = result\n",
    "        else:\n",
    "            response['result'] = \"Unexpected result format: \" + sql_result\n",
    "        \n",
    "        # If return_only_outputs is True, only return the result value\n",
    "        if return_only_outputs:\n",
    "            return response['result']\n",
    "        \n",
    "        # Otherwise, return the full response\n",
    "        return response\n"
   ]
  },
  {
   "cell_type": "code",
   "execution_count": 67,
   "metadata": {},
   "outputs": [
    {
     "name": "stdout",
     "output_type": "stream",
     "text": [
      "\n",
      "\n",
      "\u001b[1m> Entering new CustomSQLDatabaseChain chain...\u001b[0m\n",
      "What is the total revenue from Small sized t-shirts?\n",
      "SQLQuery:"
     ]
    },
    {
     "name": "stdout",
     "output_type": "stream",
     "text": [
      "\u001b[32;1m\u001b[1;3mQuestion: What is the total revenue from Small sized t-shirts?\n",
      "SQLQuery: \n",
      "SELECT SUM(`price` * `stock_quantity`) AS total_revenue \n",
      "FROM `t_shirts` \n",
      "WHERE `size` = 'S';\u001b[0m\n",
      "SQLResult: \u001b[33;1m\u001b[1;3m[(Decimal('25345'),)]\u001b[0m\n",
      "\u001b[1m> Finished chain.\u001b[0m\n",
      "{'query': 'What is the total revenue from Small sized t-shirts?', 'result': \"[(Decimal('25345'),)]\"}\n"
     ]
    }
   ],
   "source": [
    "# Initialize the custom database chain\n",
    "db_chain = CustomSQLDatabaseChain.from_llm(llm, db, verbose=True, return_direct=True)\n",
    "\n",
    "# Get the query result and processed answer\n",
    "response = db_chain.invoke(\"What is the total revenue from Small sized t-shirts?\")\n",
    "\n"
   ]
  },
  {
   "cell_type": "code",
   "execution_count": 68,
   "metadata": {},
   "outputs": [
    {
     "name": "stdout",
     "output_type": "stream",
     "text": [
      "25345.0\n"
     ]
    }
   ],
   "source": [
    "print(response)  # Should print: 822\n"
   ]
  },
  {
   "cell_type": "code",
   "execution_count": 69,
   "metadata": {},
   "outputs": [
    {
     "name": "stdout",
     "output_type": "stream",
     "text": [
      "\n",
      "\n",
      "\u001b[1m> Entering new CustomSQLDatabaseChain chain...\u001b[0m\n",
      "SELECT sum(stock_quantity) FROM t_shirts WHERE brand = 'Nike' AND color = 'Red' AND size = 'L'\n",
      "SQLQuery:"
     ]
    },
    {
     "name": "stdout",
     "output_type": "stream",
     "text": [
      "\u001b[32;1m\u001b[1;3mQuestion: SELECT sum(stock_quantity) FROM t_shirts WHERE brand = 'Nike' AND color = 'Red' AND size = 'L'\n",
      "SQLQuery: SELECT SUM(`stock_quantity`) FROM `t_shirts` WHERE `brand` = 'Nike' AND `color` = 'Red' AND `size` = 'L'\u001b[0m\n",
      "SQLResult: \u001b[33;1m\u001b[1;3m[(Decimal('55'),)]\u001b[0m\n",
      "\u001b[1m> Finished chain.\u001b[0m\n",
      "{'query': \"SELECT sum(stock_quantity) FROM t_shirts WHERE brand = 'Nike' AND color = 'Red' AND size = 'L'\", 'result': \"[(Decimal('55'),)]\"}\n"
     ]
    },
    {
     "data": {
      "text/plain": [
       "55.0"
      ]
     },
     "execution_count": 69,
     "metadata": {},
     "output_type": "execute_result"
    }
   ],
   "source": [
    "qns1 = db_chain.invoke(\"SELECT sum(stock_quantity) FROM t_shirts WHERE brand = 'Nike' AND color = 'Red' AND size = 'L'\")\n",
    "qns1"
   ]
  },
  {
   "cell_type": "code",
   "execution_count": 70,
   "metadata": {},
   "outputs": [
    {
     "name": "stdout",
     "output_type": "stream",
     "text": [
      "\n",
      "\n",
      "\u001b[1m> Entering new CustomSQLDatabaseChain chain...\u001b[0m\n",
      "How much is the total price of the inventory for all s size t-shirts after applying discounts?\n",
      "SQLQuery:\u001b[32;1m\u001b[1;3mQuestion: How much is the total price of the inventory for all s size t-shirts after applying discounts?\n",
      "SQLQuery: \n",
      "SELECT \n",
      "    SUM(`price` * (1 - `pct_discount` / 100) * `stock_quantity`) AS total_price\n",
      "FROM \n",
      "    t_shirts\n",
      "JOIN \n",
      "    discounts ON t_shirts.t_shirt_id = discounts.t_shirt_id\n",
      "WHERE \n",
      "    `size` = 'S'\u001b[0m\n",
      "SQLResult: \u001b[33;1m\u001b[1;3m[(Decimal('3680.600000'),)]\u001b[0m\n",
      "\u001b[1m> Finished chain.\u001b[0m\n",
      "{'query': 'How much is the total price of the inventory for all s size t-shirts after applying discounts?', 'result': \"[(Decimal('3680.600000'),)]\"}\n"
     ]
    },
    {
     "data": {
      "text/plain": [
       "3680.6"
      ]
     },
     "execution_count": 70,
     "metadata": {},
     "output_type": "execute_result"
    }
   ],
   "source": [
    "qns2 = db_chain.invoke(\"How much is the total price of the inventory for all s size t-shirts after applying discounts?\")\n",
    "qns2 "
   ]
  },
  {
   "cell_type": "code",
   "execution_count": 71,
   "metadata": {},
   "outputs": [
    {
     "name": "stdout",
     "output_type": "stream",
     "text": [
      "\n",
      "\n",
      "\u001b[1m> Entering new CustomSQLDatabaseChain chain...\u001b[0m\n",
      "SELECT sum(a.total_amount * ((100-COALESCE(discounts.pct_discount,0))/100)) as total_revenue from\n",
      "(select sum(price*stock_quantity) as total_amount, t_shirt_id from t_shirts where brand = 'Levi'\n",
      "group by t_shirt_id) a left join discounts on a.t_shirt_id = discounts.t_shirt_id (use exact query)\n",
      "SQLQuery:\u001b[32;1m\u001b[1;3mQuestion: SELECT sum(a.total_amount * ((100-COALESCE(discounts.pct_discount,0))/100)) as total_revenue from\n",
      "(select sum(price*stock_quantity) as total_amount, t_shirt_id from t_shirts where brand = 'Levi'\n",
      "group by t_shirt_id) a left join discounts on a.t_shirt_id = discounts.t_shirt_id\n",
      "\n",
      "SQLQuery: \n",
      "SELECT sum(a.total_amount * ((100-COALESCE(discounts.pct_discount,0))/100)) as total_revenue \n",
      "FROM \n",
      "(select sum(`price`*`stock_quantity`) as total_amount, `t_shirt_id` \n",
      "from t_shirts \n",
      "where `brand` = 'Levi' \n",
      "group by `t_shirt_id`) a \n",
      "LEFT JOIN discounts \n",
      "ON a.`t_shirt_id` = discounts.`t_shirt_id`\u001b[0m\n",
      "SQLResult: \u001b[33;1m\u001b[1;3m[(Decimal('11136.100000'),)]\u001b[0m\n",
      "\u001b[1m> Finished chain.\u001b[0m\n",
      "{'query': \"SELECT sum(a.total_amount * ((100-COALESCE(discounts.pct_discount,0))/100)) as total_revenue from\\n(select sum(price*stock_quantity) as total_amount, t_shirt_id from t_shirts where brand = 'Levi'\\ngroup by t_shirt_id) a left join discounts on a.t_shirt_id = discounts.t_shirt_id (use exact query)\", 'result': \"[(Decimal('11136.100000'),)]\"}\n"
     ]
    },
    {
     "data": {
      "text/plain": [
       "11136.1"
      ]
     },
     "execution_count": 71,
     "metadata": {},
     "output_type": "execute_result"
    }
   ],
   "source": [
    "qns3 = db_chain.invoke(\"\"\"SELECT sum(a.total_amount * ((100-COALESCE(discounts.pct_discount,0))/100)) as total_revenue from\n",
    "(select sum(price*stock_quantity) as total_amount, t_shirt_id from t_shirts where brand = 'Levi'\n",
    "group by t_shirt_id) a left join discounts on a.t_shirt_id = discounts.t_shirt_id (use exact query)\"\"\")\n",
    "qns3"
   ]
  },
  {
   "cell_type": "code",
   "execution_count": 72,
   "metadata": {},
   "outputs": [
    {
     "name": "stdout",
     "output_type": "stream",
     "text": [
      "\n",
      "\n",
      "\u001b[1m> Entering new CustomSQLDatabaseChain chain...\u001b[0m\n",
      "SELECT SUM(price * stock_quantity) FROM t_shirts WHERE brand = 'Levi'\n",
      "SQLQuery:\u001b[32;1m\u001b[1;3mQuestion: SELECT SUM(price * stock_quantity) FROM t_shirts WHERE brand = 'Levi'\n",
      "SQLQuery: SELECT SUM(`price` * `stock_quantity`) AS total_value FROM t_shirts WHERE `brand` = 'Levi' LIMIT 5;\u001b[0m\n",
      "SQLResult: \u001b[33;1m\u001b[1;3m[(Decimal('12913'),)]\u001b[0m\n",
      "\u001b[1m> Finished chain.\u001b[0m\n",
      "{'query': \"SELECT SUM(price * stock_quantity) FROM t_shirts WHERE brand = 'Levi'\", 'result': \"[(Decimal('12913'),)]\"}\n"
     ]
    },
    {
     "data": {
      "text/plain": [
       "12913.0"
      ]
     },
     "execution_count": 72,
     "metadata": {},
     "output_type": "execute_result"
    }
   ],
   "source": [
    "qns4 = db_chain.invoke(\"SELECT SUM(price * stock_quantity) FROM t_shirts WHERE brand = 'Levi'\")\n",
    "qns4"
   ]
  },
  {
   "cell_type": "code",
   "execution_count": 73,
   "metadata": {},
   "outputs": [
    {
     "name": "stdout",
     "output_type": "stream",
     "text": [
      "\n",
      "\n",
      "\u001b[1m> Entering new CustomSQLDatabaseChain chain...\u001b[0m\n",
      "SELECT sum(stock_quantity) FROM t_shirts WHERE brand = 'Levi' AND color = 'White'\n",
      "SQLQuery:\u001b[32;1m\u001b[1;3mQuestion: SELECT sum(stock_quantity) FROM t_shirts WHERE brand = 'Levi' AND color = 'White'\n",
      "SQLQuery: SELECT SUM(`stock_quantity`) FROM `t_shirts` WHERE `brand` = 'Levi' AND `color` = 'White' LIMIT 1;\u001b[0m\n",
      "SQLResult: \u001b[33;1m\u001b[1;3m[(Decimal('217'),)]\u001b[0m\n",
      "\u001b[1m> Finished chain.\u001b[0m\n",
      "{'query': \"SELECT sum(stock_quantity) FROM t_shirts WHERE brand = 'Levi' AND color = 'White'\", 'result': \"[(Decimal('217'),)]\"}\n"
     ]
    },
    {
     "data": {
      "text/plain": [
       "217.0"
      ]
     },
     "execution_count": 73,
     "metadata": {},
     "output_type": "execute_result"
    }
   ],
   "source": [
    "qns5 = db_chain.invoke(\"SELECT sum(stock_quantity) FROM t_shirts WHERE brand = 'Levi' AND color = 'White'\")\n",
    "qns5"
   ]
  },
  {
   "cell_type": "code",
   "execution_count": 74,
   "metadata": {},
   "outputs": [
    {
     "name": "stdout",
     "output_type": "stream",
     "text": [
      "\n",
      "\n",
      "\u001b[1m> Entering new CustomSQLDatabaseChain chain...\u001b[0m\n",
      "SELECT sum(stock_quantity) FROM t_shirts WHERE brand = 'Nike'\n",
      "SQLQuery:\u001b[32;1m\u001b[1;3mQuestion: SELECT sum(stock_quantity) FROM t_shirts WHERE brand = 'Nike'\n",
      "SQLQuery: SELECT SUM(`stock_quantity`) FROM `t_shirts` WHERE `brand` = 'Nike' LIMIT 5;\u001b[0m\n",
      "SQLResult: \u001b[33;1m\u001b[1;3m[(Decimal('681'),)]\u001b[0m\n",
      "\u001b[1m> Finished chain.\u001b[0m\n",
      "{'query': \"SELECT sum(stock_quantity) FROM t_shirts WHERE brand = 'Nike'\", 'result': \"[(Decimal('681'),)]\"}\n"
     ]
    },
    {
     "data": {
      "text/plain": [
       "681.0"
      ]
     },
     "execution_count": 74,
     "metadata": {},
     "output_type": "execute_result"
    }
   ],
   "source": [
    "qns6 = db_chain.invoke(\"SELECT sum(stock_quantity) FROM t_shirts WHERE brand = 'Nike'\")\n",
    "qns6"
   ]
  },
  {
   "cell_type": "code",
   "execution_count": 75,
   "metadata": {},
   "outputs": [
    {
     "name": "stdout",
     "output_type": "stream",
     "text": [
      "55.0 3680.6 11136.1 12913.0 217.0 681.0\n"
     ]
    }
   ],
   "source": [
    "print(qns1,qns2,qns3,qns4,qns5,qns6)"
   ]
  },
  {
   "cell_type": "code",
   "execution_count": 76,
   "metadata": {},
   "outputs": [],
   "source": [
    "few_shots = [\n",
    "    {'Question' : \"How many t-shirts do we have left for Nike in XS size and white color?\",\n",
    "     'SQLQuery' : \"SELECT sum(stock_quantity) FROM t_shirts WHERE brand = 'Nike' AND color = 'White' AND size = 'XS'\",\n",
    "     'SQLResult': \"Result of the SQL query\",\n",
    "     'Answer' : \"55.0\"},\n",
    "    {'Question': \"How much is the total price of the inventory for all S-size t-shirts?\",\n",
    "     'SQLQuery':\"SELECT SUM(price*stock_quantity) FROM t_shirts WHERE size = 'S'\",\n",
    "     'SQLResult': \"Result of the SQL query\",\n",
    "     'Answer': \"3680.6\"},\n",
    "    {'Question': \"If we have to sell all the Levi’s T-shirts today with discounts applied. How much revenue  our store will generate (post discounts)?\" ,\n",
    "     'SQLQuery' : \"\"\"SELECT sum(a.total_amount * ((100-COALESCE(discounts.pct_discount,0))/100)) as total_revenue from\n",
    "(select sum(price*stock_quantity) as total_amount, t_shirt_id from t_shirts where brand = 'Levi'\n",
    "group by t_shirt_id) a left join discounts on a.t_shirt_id = discounts.t_shirt_id\n",
    " \"\"\",\n",
    "     'SQLResult': \"Result of the SQL query\",\n",
    "     'Answer': \"11136.1\"} ,\n",
    "     {'Question' : \"If we have to sell all the Levi’s T-shirts today. How much revenue our store will generate without discount?\" ,\n",
    "      'SQLQuery': \"SELECT SUM(price * stock_quantity) FROM t_shirts WHERE brand = 'Levi'\",\n",
    "      'SQLResult': \"Result of the SQL query\",\n",
    "      'Answer' : \"12913.0\"},\n",
    "    {'Question': \"How many white color Levi's shirt I have?\",\n",
    "     'SQLQuery' : \"SELECT sum(stock_quantity) FROM t_shirts WHERE brand = 'Levi' AND color = 'White'\",\n",
    "     'SQLResult': \"Result of the SQL query\",\n",
    "     'Answer' : \"217.0\"\n",
    "     },\n",
    "    {'Question': \"How many Nike's shirt I have?\",\n",
    "     'SQLQuery' : \"SELECT sum(stock_quantity) FROM t_shirts WHERE brand = 'Nike'\",\n",
    "     'SQLResult': \"Result of the SQL query\",\n",
    "     'Answer' : \"681.0\"\n",
    "     }\n",
    "]"
   ]
  },
  {
   "cell_type": "code",
   "execution_count": 77,
   "metadata": {},
   "outputs": [],
   "source": [
    "# few_shots = [\n",
    "#     {\n",
    "#         'Question': \"How many t-shirts do we have left for Nike in XS size and white color?\",\n",
    "#         'SQLQuery': \"SELECT sum(stock_quantity) FROM t_shirts WHERE brand = 'Nike' AND color = 'White' AND size = 'XS'\",\n",
    "#         'SQLResult': str(qns1)\n",
    "#     },\n",
    "#     {\n",
    "#         'Question': \"How much is the total price of the inventory for all S-size t-shirts?\",\n",
    "#         'SQLQuery': \"SELECT SUM(price*stock_quantity) FROM t_shirts WHERE size = 'S'\",\n",
    "#         'SQLResult': str(qns2)\n",
    "#     },\n",
    "#     {\n",
    "#         'Question': \"If we have to sell all the Levi’s T-shirts today with discounts applied. How much revenue our store will generate (post discounts)?\",\n",
    "#         'SQLQuery': \"\"\"SELECT sum(a.total_amount * ((100-COALESCE(discounts.pct_discount,0))/100)) as total_revenue from\n",
    "#         (select sum(price*stock_quantity) as total_amount, t_shirt_id from t_shirts where brand = 'Levi'\n",
    "#         group by t_shirt_id) a left join discounts on a.t_shirt_id = discounts.t_shirt_id\"\"\",\n",
    "#         'SQLResult': str(qns3)\n",
    "#     },\n",
    "#     {\n",
    "#         'Question': \"If we have to sell all the Levi’s T-shirts today. How much revenue our store will generate without discount?\",\n",
    "#         'SQLQuery': \"SELECT SUM(price * stock_quantity) FROM t_shirts WHERE brand = 'Levi'\",\n",
    "#         'SQLResult': str(qns4)\n",
    "#     },\n",
    "#     {\n",
    "#         'Question': \"How many white color Levi's shirt I have?\",\n",
    "#         'SQLQuery': \"SELECT sum(stock_quantity) FROM t_shirts WHERE brand = 'Levi' AND color = 'White'\",\n",
    "#         'SQLResult': str(qns5)\n",
    "#     },\n",
    "#     {\n",
    "#         'Question': \"How many Nike's shirt I have?\",\n",
    "#         'SQLQuery': \"SELECT sum(stock_quantity) FROM t_shirts WHERE brand = 'Nike'\",\n",
    "#         'SQLResult': str(qns6)\n",
    "#     }\n",
    "# ]\n"
   ]
  },
  {
   "cell_type": "code",
   "execution_count": 78,
   "metadata": {},
   "outputs": [
    {
     "data": {
      "text/plain": [
       "1536"
      ]
     },
     "execution_count": 78,
     "metadata": {},
     "output_type": "execute_result"
    }
   ],
   "source": [
    "from langchain_openai.embeddings import OpenAIEmbeddings\n",
    "\n",
    "embeddings = OpenAIEmbeddings(model=\"text-embedding-3-small\")\n",
    "\n",
    "e = embeddings.embed_query(\"If we have to sell all the Levi’s T-shirts today with discounts applied. How much revenue  our store will generate (post discounts)?\")\n",
    "len(e)"
   ]
  },
  {
   "cell_type": "code",
   "execution_count": 79,
   "metadata": {},
   "outputs": [
    {
     "data": {
      "text/plain": [
       "[\"How many t-shirts do we have left for Nike in XS size and white color? SELECT sum(stock_quantity) FROM t_shirts WHERE brand = 'Nike' AND color = 'White' AND size = 'XS' Result of the SQL query 55.0\",\n",
       " \"How much is the total price of the inventory for all S-size t-shirts? SELECT SUM(price*stock_quantity) FROM t_shirts WHERE size = 'S' Result of the SQL query 3680.6\",\n",
       " \"If we have to sell all the Levi’s T-shirts today with discounts applied. How much revenue  our store will generate (post discounts)? SELECT sum(a.total_amount * ((100-COALESCE(discounts.pct_discount,0))/100)) as total_revenue from\\n(select sum(price*stock_quantity) as total_amount, t_shirt_id from t_shirts where brand = 'Levi'\\ngroup by t_shirt_id) a left join discounts on a.t_shirt_id = discounts.t_shirt_id\\n  Result of the SQL query 11136.1\",\n",
       " \"If we have to sell all the Levi’s T-shirts today. How much revenue our store will generate without discount? SELECT SUM(price * stock_quantity) FROM t_shirts WHERE brand = 'Levi' Result of the SQL query 12913.0\",\n",
       " \"How many white color Levi's shirt I have? SELECT sum(stock_quantity) FROM t_shirts WHERE brand = 'Levi' AND color = 'White' Result of the SQL query 217.0\",\n",
       " \"How many Nike's shirt I have? SELECT sum(stock_quantity) FROM t_shirts WHERE brand = 'Nike' Result of the SQL query 681.0\"]"
      ]
     },
     "execution_count": 79,
     "metadata": {},
     "output_type": "execute_result"
    }
   ],
   "source": [
    "to_vectorize = [\" \".join(example.values()) for example in few_shots]\n",
    "to_vectorize"
   ]
  },
  {
   "cell_type": "markdown",
   "metadata": {},
   "source": [
    "### CHROMA"
   ]
  },
  {
   "cell_type": "code",
   "execution_count": 80,
   "metadata": {},
   "outputs": [],
   "source": [
    "from langchain.vectorstores import Chroma\n",
    "\n",
    "vectorStore = Chroma.from_texts(to_vectorize,embedding=embeddings,metadatas=few_shots)"
   ]
  },
  {
   "cell_type": "code",
   "execution_count": 81,
   "metadata": {},
   "outputs": [
    {
     "data": {
      "text/plain": [
       "[{'Answer': '681.0',\n",
       "  'Question': \"How many Nike's shirt I have?\",\n",
       "  'SQLQuery': \"SELECT sum(stock_quantity) FROM t_shirts WHERE brand = 'Nike'\",\n",
       "  'SQLResult': 'Result of the SQL query'},\n",
       " {'Answer': '681.0',\n",
       "  'Question': \"How many Nike's shirt I have?\",\n",
       "  'SQLQuery': \"SELECT sum(stock_quantity) FROM t_shirts WHERE brand = 'Nike'\",\n",
       "  'SQLResult': 'Result of the SQL query'}]"
      ]
     },
     "execution_count": 81,
     "metadata": {},
     "output_type": "execute_result"
    }
   ],
   "source": [
    "from langchain.prompts import SemanticSimilarityExampleSelector\n",
    "\n",
    "example_selector = SemanticSimilarityExampleSelector(\n",
    "  vectorstore=vectorStore,\n",
    "  k=2\n",
    ")\n",
    "\n",
    "example_selector.select_examples({\"Question\":\"how many Adidas t-shirts i have ;eft in my store ?\"})"
   ]
  },
  {
   "cell_type": "code",
   "execution_count": 82,
   "metadata": {},
   "outputs": [],
   "source": [
    "from langchain.prompts import PromptTemplate\n",
    "\n",
    "\n",
    "example_prompt = PromptTemplate(\n",
    "    input_variables=[\"Question\", \"SQLQuery\", \"SQLResult\"],\n",
    "    template=\"\\nQuestion: {Question}\\nSQLQuery: {SQLQuery}\\nSQLResult: {SQLResult}\",\n",
    ")"
   ]
  },
  {
   "cell_type": "markdown",
   "metadata": {},
   "source": [
    "-----------"
   ]
  },
  {
   "cell_type": "markdown",
   "metadata": {},
   "source": [
    "----------"
   ]
  },
  {
   "cell_type": "code",
   "execution_count": 83,
   "metadata": {},
   "outputs": [],
   "source": [
    "from langchain.prompts import FewShotPromptTemplate\n"
   ]
  },
  {
   "cell_type": "code",
   "execution_count": 84,
   "metadata": {},
   "outputs": [],
   "source": [
    "few_shot_prompt = FewShotPromptTemplate(\n",
    "    example_selector=example_selector,\n",
    "    example_prompt=example_prompt,\n",
    "    prefix=mysql_prompt,\n",
    "    suffix=PROMPT_SUFFIX,\n",
    "    input_variables=[\"input\", \"table_info\", \"top_k\"], #These variables are used in the prefix and suffix\n",
    ")"
   ]
  },
  {
   "cell_type": "code",
   "execution_count": 85,
   "metadata": {},
   "outputs": [
    {
     "name": "stdout",
     "output_type": "stream",
     "text": [
      "\n",
      "CREATE TABLE discounts (\n",
      "\tdiscount_id INTEGER NOT NULL AUTO_INCREMENT, \n",
      "\tt_shirt_id INTEGER NOT NULL, \n",
      "\tpct_discount DECIMAL(5, 2), \n",
      "\tPRIMARY KEY (discount_id), \n",
      "\tCONSTRAINT discounts_ibfk_1 FOREIGN KEY(t_shirt_id) REFERENCES t_shirts (t_shirt_id), \n",
      "\tCONSTRAINT discounts_chk_1 CHECK ((`pct_discount` between 0 and 100))\n",
      ")ENGINE=InnoDB DEFAULT CHARSET=utf8mb4 COLLATE utf8mb4_0900_ai_ci\n",
      "\n",
      "/*\n",
      "3 rows from discounts table:\n",
      "discount_id\tt_shirt_id\tpct_discount\n",
      "1\t1\t10.00\n",
      "2\t2\t15.00\n",
      "3\t3\t20.00\n",
      "*/\n",
      "\n",
      "\n",
      "CREATE TABLE t_shirts (\n",
      "\tt_shirt_id INTEGER NOT NULL AUTO_INCREMENT, \n",
      "\tbrand ENUM('Van Huesen','Levi','Nike','Adidas') NOT NULL, \n",
      "\tcolor ENUM('Red','Blue','Black','White') NOT NULL, \n",
      "\tsize ENUM('XS','S','M','L','XL') NOT NULL, \n",
      "\tprice INTEGER, \n",
      "\tstock_quantity INTEGER NOT NULL, \n",
      "\tPRIMARY KEY (t_shirt_id), \n",
      "\tCONSTRAINT t_shirts_chk_1 CHECK ((`price` between 10 and 50))\n",
      ")ENGINE=InnoDB DEFAULT CHARSET=utf8mb4 COLLATE utf8mb4_0900_ai_ci\n",
      "\n",
      "/*\n",
      "3 rows from t_shirts table:\n",
      "t_shirt_id\tbrand\tcolor\tsize\tprice\tstock_quantity\n",
      "1\tVan Huesen\tRed\tL\t48\t87\n",
      "2\tLevi\tWhite\tM\t21\t86\n",
      "3\tLevi\tRed\tL\t30\t20\n",
      "*/\n"
     ]
    }
   ],
   "source": [
    "table_data = db.table_info\n",
    "\n",
    "print(table_data)"
   ]
  },
  {
   "cell_type": "code",
   "execution_count": 86,
   "metadata": {},
   "outputs": [],
   "source": [
    "from langchain.prompts import FewShotPromptTemplate\n",
    "\n",
    "FewShot_Prompt = FewShotPromptTemplate(\n",
    "    example_selector=example_selector,\n",
    "    example_prompt=example_prompt,\n",
    "    prefix=\"\"\"\n",
    "    \n",
    "\n",
    "You are a MySQL expert. Given an input question, your job is to:\n",
    "1. Create a syntactically correct SQL query.\n",
    "2. Run the query and provide only the result of the SQL query as the output.\n",
    "3. Only use the following tables:(-- discounts table\n",
    "CREATE TABLE discounts (\n",
    "    discount_id INTEGER NOT NULL AUTO_INCREMENT, \n",
    "    t_shirt_id INTEGER NOT NULL, \n",
    "    pct_discount DECIMAL(5, 2), \n",
    "    PRIMARY KEY (discount_id), \n",
    "    CONSTRAINT discounts_ibfk_1 FOREIGN KEY(t_shirt_id) REFERENCES t_shirts (t_shirt_id), \n",
    "    CONSTRAINT discounts_chk_1 CHECK (pct_discount BETWEEN 0 AND 100)\n",
    ");\n",
    "\n",
    "-- t_shirts table\n",
    "CREATE TABLE t_shirts (\n",
    "    t_shirt_id INTEGER NOT NULL AUTO_INCREMENT, \n",
    "    brand ENUM('Van Huesen', 'Levi', 'Nike', 'Adidas') NOT NULL, \n",
    "    color ENUM('Red', 'Blue', 'Black', 'White') NOT NULL, \n",
    "    size ENUM('XS', 'S', 'M', 'L', 'XL') NOT NULL, \n",
    "    price INTEGER, \n",
    "    stock_quantity INTEGER NOT NULL, \n",
    "    PRIMARY KEY (t_shirt_id), \n",
    "    CONSTRAINT t_shirts_chk_1 CHECK (price BETWEEN 10 AND 50)\n",
    ");\n",
    ")\n",
    "\n",
    "The response format must be strictly:\n",
    "Question: Question text\n",
    "SQLQuery: SQL query\n",
    "SQLResult: Result of the SQL query (Strictly the numerical value of SQLResult not the word SQLResult)\n",
    "\"\"\",\n",
    "    suffix=\"\"\"\n",
    "Only include the SQLResult in the response. Do not provide an Answer key or additional explanations.\n",
    "Question: {input}\n",
    "SQLQuery:\n",
    "\"\"\",\n",
    "    input_variables=[\"input\", \"table_info\", \"top_k\"],\n",
    ")\n"
   ]
  },
  {
   "cell_type": "code",
   "execution_count": null,
   "metadata": {},
   "outputs": [],
   "source": []
  },
  {
   "cell_type": "code",
   "execution_count": 87,
   "metadata": {},
   "outputs": [],
   "source": [
    "from langchain_experimental.sql import SQLDatabaseChain\n",
    "from decimal import Decimal\n",
    "import re\n",
    "\n",
    "class NewCustomSql(SQLDatabaseChain):\n",
    "    def invoke(self, query: str,return_only_outputs= False):\n",
    "        # Run the original chain to get the SQL query result\n",
    "        response = super().invoke(query)\n",
    "        print(response)\n",
    "        # Extract and process the result\n",
    "        sql_result = response['result']\n",
    "        \n",
    "        # Apply regex to extract the Decimal value and convert it to float\n",
    "        match = re.search(r\"Decimal\\('([\\d\\.]+)'\\)|[\\d\\.]+\", sql_result)\n",
    "        if match:\n",
    "            result = float(Decimal(match.group(1)))\n",
    "            response['result'] = result\n",
    "        else:\n",
    "            response['result'] = \"Unexpected result format: \" + sql_result\n",
    "        \n",
    "        # If return_only_outputs is True, only return the result value\n",
    "        if return_only_outputs:\n",
    "            return response['result']\n",
    "        \n",
    "        # Otherwise, return the full response\n",
    "        return response\n",
    "    \n"
   ]
  },
  {
   "cell_type": "code",
   "execution_count": 88,
   "metadata": {},
   "outputs": [
    {
     "name": "stdout",
     "output_type": "stream",
     "text": [
      "\n",
      "\n",
      "\u001b[1m> Entering new SQLDatabaseChain chain...\u001b[0m\n",
      "How many tshirts are left in total number of stock ?\n",
      "SQLQuery:"
     ]
    },
    {
     "name": "stdout",
     "output_type": "stream",
     "text": [
      "\u001b[32;1m\u001b[1;3mSQLQuery: SELECT sum(stock_quantity) FROM t_shirts\u001b[0m\n",
      "SQLResult: \u001b[33;1m\u001b[1;3m[(Decimal('3135'),)]\u001b[0m\n",
      "Answer:\u001b[32;1m\u001b[1;3m3135\u001b[0m\n",
      "\u001b[1m> Finished chain.\u001b[0m\n"
     ]
    },
    {
     "data": {
      "text/plain": [
       "{'query': 'How many tshirts are left in total number of stock ?',\n",
       " 'result': '3135'}"
      ]
     },
     "execution_count": 88,
     "metadata": {},
     "output_type": "execute_result"
    }
   ],
   "source": [
    "new_chain = SQLDatabaseChain.from_llm(llm = llm,db = db,verbose = True,prompt = FewShot_Prompt)\n",
    "\n",
    "new_chain.invoke(\"How many tshirts are left in total number of stock ?\")\n",
    "\n"
   ]
  },
  {
   "cell_type": "code",
   "execution_count": 89,
   "metadata": {},
   "outputs": [
    {
     "name": "stdout",
     "output_type": "stream",
     "text": [
      "\n",
      "\n",
      "\u001b[1m> Entering new CustomSQLDatabaseChain chain...\u001b[0m\n",
      "How many total Levi's T Shirt I have ?\n",
      "SQLQuery:\u001b[32;1m\u001b[1;3mQuestion: How many total Levi's T Shirt I have ?\n",
      "SQLQuery: SELECT SUM(`stock_quantity`) FROM `t_shirts` WHERE `brand` = 'Levi'\u001b[0m\n",
      "SQLResult: \u001b[33;1m\u001b[1;3m[(Decimal('609'),)]\u001b[0m\n",
      "\u001b[1m> Finished chain.\u001b[0m\n",
      "{'query': \"How many total Levi's T Shirt I have ?\", 'result': \"[(Decimal('609'),)]\"}\n"
     ]
    },
    {
     "data": {
      "text/plain": [
       "609.0"
      ]
     },
     "execution_count": 89,
     "metadata": {},
     "output_type": "execute_result"
    }
   ],
   "source": [
    "db_chain.invoke(\"How many total Levi's T Shirt I have ?\")\n"
   ]
  },
  {
   "cell_type": "code",
   "execution_count": null,
   "metadata": {},
   "outputs": [],
   "source": []
  }
 ],
 "metadata": {
  "kernelspec": {
   "display_name": "Python 3",
   "language": "python",
   "name": "python3"
  },
  "language_info": {
   "codemirror_mode": {
    "name": "ipython",
    "version": 3
   },
   "file_extension": ".py",
   "mimetype": "text/x-python",
   "name": "python",
   "nbconvert_exporter": "python",
   "pygments_lexer": "ipython3",
   "version": "3.10.15"
  },
  "orig_nbformat": 4
 },
 "nbformat": 4,
 "nbformat_minor": 2
}
